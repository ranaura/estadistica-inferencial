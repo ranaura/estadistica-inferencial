{
 "cells": [
  {
   "cell_type": "markdown",
   "metadata": {},
   "source": [
    "## Preguntas de esta tarea\n",
    "1. Escribe una secuencia de instrucciones que permitan leer un número real por pantalla y que muestre si el número es positivo o no."
   ]
  },
  {
   "cell_type": "code",
   "execution_count": 3,
   "metadata": {},
   "outputs": [
    {
     "name": "stdout",
     "output_type": "stream",
     "text": [
      "Introduce un número 5\n",
      "Tu número es positivo\n"
     ]
    }
   ],
   "source": [
    "numero = int (input(\"Introduce un número \"))\n",
    "if numero > 0:\n",
    "    print (\"Tu número es positivo\")\n",
    "elif numero == 0: \n",
    "    print (\"Tu número es cero\")\n",
    "else:\n",
    "    print (\"Tu número es Negativo\")"
   ]
  },
  {
   "cell_type": "markdown",
   "metadata": {},
   "source": [
    "2.  Escribe una secuencia de instrucciones que permitan leer un número real por pantalla y que muestre si el número está en el rango entre -5 y 5"
   ]
  },
  {
   "cell_type": "code",
   "execution_count": 10,
   "metadata": {},
   "outputs": [
    {
     "name": "stdout",
     "output_type": "stream",
     "text": [
      "Introduce un número 5\n",
      "El número:  5 está entre -5 y 5\n"
     ]
    }
   ],
   "source": [
    "numero = int (input(\"Introduce un número \"))\n",
    "if numero >=-5 and numero <= 5   :\n",
    "    print (\"El número:  \"+str (numero) + \" está entre -5 y 5\")\n",
    "else:\n",
    "    print (\"El número esta fuera de rango [-5,5]\")"
   ]
  },
  {
   "cell_type": "markdown",
   "metadata": {},
   "source": [
    "3. Escribe una secuencia de instrucciones que permita. n leer las coordenadas de un punto (x, y) e indique en cuál de los cuatro cuadrantes se encuentra dicho punto."
   ]
  },
  {
   "cell_type": "code",
   "execution_count": 12,
   "metadata": {},
   "outputs": [
    {
     "name": "stdout",
     "output_type": "stream",
     "text": [
      "Introduce la coórdenada X -6\n",
      "Introduce la coórdenada Y 3\n",
      "Tu punto está en el cuadrante II  (-,+)\n"
     ]
    }
   ],
   "source": [
    "x = int (input(\"Introduce la coórdenada X \"))\n",
    "y = int (input(\"Introduce la coórdenada Y \"))\n",
    "\n",
    "if x > 0 and y > 0:\n",
    "    print (\"Tu punto está en el cuadrante I (+,+)\")\n",
    "elif x<0 and y>0:\n",
    "    print (\"Tu punto está en el cuadrante II  (-,+)\")\n",
    "elif x<0 and y<0:\n",
    "    print (\"Tu punto está en el cuadrante III  (-,-)\")\n",
    "elif x>0 and y<0:\n",
    "    print (\"Tu punto está en el cuadrante IV  (+,-)\")\n"
   ]
  },
  {
   "cell_type": "markdown",
   "metadata": {},
   "source": [
    "4. Escribe una secuencia de instrucciones que permitan leer dos números enteros y muestre el cociente de la división entera y el resto."
   ]
  },
  {
   "cell_type": "code",
   "execution_count": 16,
   "metadata": {},
   "outputs": [
    {
     "data": {
      "text/plain": [
       "(3, 1)"
      ]
     },
     "execution_count": 16,
     "metadata": {},
     "output_type": "execute_result"
    }
   ],
   "source": [
    "def identifica (x,y):\n",
    "    return divmod(x,y)\n",
    "    \n",
    "    \n",
    "identifica (13,4)"
   ]
  },
  {
   "cell_type": "markdown",
   "metadata": {},
   "source": [
    "5. Escribe una secuencia de instrucciones que permitan leer un número entero es cuadrado perfecto o no (piensa la mejor forma de hacerlo con lo que has aprendido hasta ahora) "
   ]
  },
  {
   "cell_type": "code",
   "execution_count": 23,
   "metadata": {},
   "outputs": [
    {
     "name": "stdout",
     "output_type": "stream",
     "text": [
      "Introduce un número para ver si es cuadrado perfecto 8\n",
      "8 no es cuadrado perfecto\n"
     ]
    }
   ],
   "source": [
    "num = int (input(\"Introduce un número para ver si es cuadrado perfecto \"))\n",
    "import math\n",
    "sqrt = math.isqrt(num)\n",
    "\n",
    "if sqrt * sqrt == num:\n",
    "    print(f\"{num} es cuadrado perfecto\")\n",
    "else:\n",
    "    print(f\"{num} no es cuadrado perfecto\")"
   ]
  },
  {
   "cell_type": "markdown",
   "metadata": {},
   "source": [
    "6 Escribe una expresión que permita determinar si un número entero positivo puede corresponder a un año bisiesto o no. Se consideran años bisiestos aquellos cuyo número es divisible por cuatro excepto los años que son múltiplos de 100, a no ser que lo sean de 400 (por ejemplo el año 2000 fue bisiesto pero el 2100 no lo será)."
   ]
  },
  {
   "cell_type": "code",
   "execution_count": 42,
   "metadata": {},
   "outputs": [
    {
     "name": "stdout",
     "output_type": "stream",
     "text": [
      "Introduce un año para saber si es bisiesto:  2016\n",
      "No es año bisiesto\n"
     ]
    }
   ],
   "source": [
    "anio = int (input(\"Introduce un año para saber si es bisiesto:  \"))\n",
    "\n",
    "if anio > 0 and anio % 4 == 0 and anio % 100 == 0 and anio % 400 == 0:\n",
    "    print (\"Si es año bisiesto\")\n",
    "            \n",
    "else:\n",
    "    print(\"No es año bisiesto\")\n",
    "        \n",
    "        "
   ]
  },
  {
   "cell_type": "markdown",
   "metadata": {},
   "source": [
    "7. Busca la imagen de un tablero de ajedrez en Google y fíjate en la nomenclatura de las casillas. Escribe una expresión lea una letra y un número de teclado correspondiente a una casilla de un tablero de ajedrez y nos indique si esta casilla es negra o blanca.\n",
    "\n",
    "Las a inician en blanca\n",
    "las b son negras\n",
    "Son 8 celdas \n"
   ]
  },
  {
   "cell_type": "code",
   "execution_count": 64,
   "metadata": {},
   "outputs": [
    {
     "name": "stdout",
     "output_type": "stream",
     "text": [
      "Escribe una casilla:  f3\n",
      "Casilla Blanca\n"
     ]
    }
   ],
   "source": [
    "letras = [\"a\",\"b\",\"c\",\"d\",\"e\",\"f\",\"g\",\"h\"]\n",
    "\n",
    "\n",
    "\n",
    "anio = input(\"Escribe una casilla:  \")\n",
    "v = []\n",
    "for l in anio:\n",
    "    v.append(l)\n",
    "\n",
    "letra = v[0]\n",
    "num   = v[1]\n",
    "\n",
    "i =0\n",
    "for let in letras :\n",
    "    if letra == let :\n",
    "        if i == 0 or i%2 == 0 :\n",
    "            print (\"Casilla Negra\")\n",
    "        else:\n",
    "            print (\"Casilla Blanca\")\n",
    "    i +=1\n",
    "        \n",
    "    \n",
    "   \n",
    "    \n",
    "   \n"
   ]
  }
 ],
 "metadata": {
  "kernelspec": {
   "display_name": "Python 3",
   "language": "python",
   "name": "python3"
  },
  "language_info": {
   "codemirror_mode": {
    "name": "ipython",
    "version": 3
   },
   "file_extension": ".py",
   "mimetype": "text/x-python",
   "name": "python",
   "nbconvert_exporter": "python",
   "pygments_lexer": "ipython3",
   "version": "3.8.3"
  }
 },
 "nbformat": 4,
 "nbformat_minor": 4
}
